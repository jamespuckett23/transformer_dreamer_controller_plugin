{
 "cells": [
  {
   "cell_type": "markdown",
   "id": "019b12ca",
   "metadata": {},
   "source": [
    "# Train Notebook for Google Colabs\n",
    "\n",
    "Usage Instructions:\n",
    "- Run first script in Google Colabs\n",
    "- Run second script to clone this repo and Nav2 Stack/required packages into your working directory\n",
    "- Run training scenarios with third script\n",
    "- Run the fourth script to test and analyze your trained model\n",
    "- Download trained model to your local device with the final script"
   ]
  }
 ],
 "metadata": {
  "language_info": {
   "name": "python"
  }
 },
 "nbformat": 4,
 "nbformat_minor": 5
}
